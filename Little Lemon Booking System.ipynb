{
 "cells": [
  {
   "cell_type": "code",
   "execution_count": 4,
   "metadata": {},
   "outputs": [
    {
     "name": "stdout",
     "output_type": "stream",
     "text": [
      "Note: you may need to restart the kernel to use updated packages.Collecting mysql-connector-python\n",
      "  Obtaining dependency information for mysql-connector-python from https://files.pythonhosted.org/packages/96/db/50f7397d0c8b013b87ad402f60892335dab6680a373c6aa583fa20c7b7a8/mysql_connector_python-8.2.0-cp312-cp312-win_amd64.whl.metadata\n",
      "  Downloading mysql_connector_python-8.2.0-cp312-cp312-win_amd64.whl.metadata (2.1 kB)\n",
      "Collecting protobuf<=4.21.12,>=4.21.1 (from mysql-connector-python)\n",
      "  Downloading protobuf-4.21.12-cp310-abi3-win_amd64.whl (527 kB)\n",
      "     ---------------------------------------- 0.0/527.0 kB ? eta -:--:--\n",
      "     ---------------------------------------- 0.0/527.0 kB ? eta -:--:--\n",
      "     -- ---------------------------------- 30.7/527.0 kB 640.0 kB/s eta 0:00:01\n",
      "     ------------------------- ------------ 358.4/527.0 kB 4.4 MB/s eta 0:00:01\n",
      "     -------------------------------------- 527.0/527.0 kB 4.7 MB/s eta 0:00:00\n",
      "Downloading mysql_connector_python-8.2.0-cp312-cp312-win_amd64.whl (14.2 MB)\n",
      "   ---------------------------------------- 0.0/14.2 MB ? eta -:--:--\n",
      "   ----- ---------------------------------- 2.0/14.2 MB 62.4 MB/s eta 0:00:01\n",
      "   ------------- -------------------------- 4.7/14.2 MB 59.7 MB/s eta 0:00:01\n",
      "   ----------------- ---------------------- 6.3/14.2 MB 50.2 MB/s eta 0:00:01\n",
      "   ----------------- ---------------------- 6.3/14.2 MB 50.2 MB/s eta 0:00:01\n",
      "   ----------------- ---------------------- 6.3/14.2 MB 50.2 MB/s eta 0:00:01\n",
      "   ----------------- ---------------------- 6.3/14.2 MB 50.2 MB/s eta 0:00:01\n",
      "   ----------------- ---------------------- 6.3/14.2 MB 50.2 MB/s eta 0:00:01\n",
      "   ----------------- ---------------------- 6.3/14.2 MB 50.2 MB/s eta 0:00:01\n",
      "   ----------------- ---------------------- 6.3/14.2 MB 50.2 MB/s eta 0:00:01\n",
      "   ----------------- ---------------------- 6.3/14.2 MB 50.2 MB/s eta 0:00:01\n",
      "   ----------------- ---------------------- 6.3/14.2 MB 50.2 MB/s eta 0:00:01\n",
      "   ----------------- ---------------------- 6.3/14.2 MB 50.2 MB/s eta 0:00:01\n",
      "   ----------------- ---------------------- 6.3/14.2 MB 50.2 MB/s eta 0:00:01\n",
      "   ----------------- ---------------------- 6.3/14.2 MB 50.2 MB/s eta 0:00:01\n",
      "   ----------------- ---------------------- 6.3/14.2 MB 50.2 MB/s eta 0:00:01\n",
      "   ----------------- ---------------------- 6.3/14.2 MB 50.2 MB/s eta 0:00:01\n",
      "   ------------------------ --------------- 8.7/14.2 MB 10.5 MB/s eta 0:00:01\n",
      "   ------------------------------ --------- 10.9/14.2 MB 11.9 MB/s eta 0:00:01\n",
      "   ------------------------------------- -- 13.2/14.2 MB 11.9 MB/s eta 0:00:01\n",
      "   ---------------------------------------  14.2/14.2 MB 11.9 MB/s eta 0:00:01\n",
      "   ---------------------------------------- 14.2/14.2 MB 11.1 MB/s eta 0:00:00\n",
      "Installing collected packages: protobuf, mysql-connector-python\n",
      "Successfully installed mysql-connector-python-8.2.0 protobuf-4.21.12\n",
      "\n"
     ]
    },
    {
     "name": "stderr",
     "output_type": "stream",
     "text": [
      "\n",
      "[notice] A new release of pip is available: 23.2.1 -> 23.3.2\n",
      "[notice] To update, run: python.exe -m pip install --upgrade pip\n"
     ]
    }
   ],
   "source": [
    "pip install mysql-connector-python\n"
   ]
  },
  {
   "cell_type": "code",
   "execution_count": 5,
   "metadata": {},
   "outputs": [],
   "source": [
    "import mysql.connector as connector\n"
   ]
  },
  {
   "cell_type": "code",
   "execution_count": 7,
   "metadata": {},
   "outputs": [],
   "source": [
    "connection = connector.connect(user = \"root\", password = \"0000\")"
   ]
  },
  {
   "cell_type": "code",
   "execution_count": 8,
   "metadata": {},
   "outputs": [],
   "source": [
    "connection = connector.connect(user = \"root\", password = \"0000\", db = \"littlelemondb\") "
   ]
  },
  {
   "cell_type": "code",
   "execution_count": 9,
   "metadata": {},
   "outputs": [],
   "source": [
    "import mysql.connector as connector\n",
    "from mysql.connector import Error"
   ]
  },
  {
   "cell_type": "code",
   "execution_count": 10,
   "metadata": {},
   "outputs": [
    {
     "name": "stdout",
     "output_type": "stream",
     "text": [
      "Connection between MySQL and Python is established.\n",
      "\n"
     ]
    }
   ],
   "source": [
    "try:\n",
    "    connection=connector.connect(user=\"root\",password=\"0000\")\n",
    "except Error as er:\n",
    "    print(er.msg)\n",
    "\n",
    "print(\"Connection between MySQL and Python is established.\\n\")"
   ]
  },
  {
   "cell_type": "code",
   "execution_count": 11,
   "metadata": {},
   "outputs": [
    {
     "name": "stdout",
     "output_type": "stream",
     "text": [
      "Cursor is created to communicate with the MySQL using Python.\n"
     ]
    }
   ],
   "source": [
    "cursor = connection.cursor()\n",
    "print(\"Cursor is created to communicate with the MySQL using Python.\")"
   ]
  },
  {
   "cell_type": "code",
   "execution_count": 12,
   "metadata": {},
   "outputs": [
    {
     "name": "stdout",
     "output_type": "stream",
     "text": [
      "The database LittleLemonDB is set for use.\n"
     ]
    }
   ],
   "source": [
    "cursor.execute(\"USE littlelemondb\")\n",
    "connection.database\n",
    "print(\"The database LittleLemonDB is set for use.\")"
   ]
  },
  {
   "cell_type": "code",
   "execution_count": 13,
   "metadata": {},
   "outputs": [
    {
     "name": "stdout",
     "output_type": "stream",
     "text": [
      "('Tables_in_littlelemondb',)\n",
      "('booking',)\n",
      "('customers',)\n",
      "('delivery',)\n",
      "('menu',)\n",
      "('menuitems',)\n",
      "('orders',)\n",
      "('ordersview',)\n",
      "('staff',)\n"
     ]
    }
   ],
   "source": [
    "show_tables_query = \"SHOW TABLES;\" \n",
    "\n",
    "cursor.execute(show_tables_query)\n",
    "\n",
    "results=cursor.fetchall()\n",
    "\n",
    "columns=cursor.column_names\n",
    "\n",
    "print(columns)\n",
    "for result in results:\n",
    "    print(result)"
   ]
  },
  {
   "cell_type": "code",
   "execution_count": 16,
   "metadata": {},
   "outputs": [],
   "source": [
    "join_query = \"\"\" SELECT Customers.FullName,\n",
    "Customers.ContactNumber,\n",
    "Customers.Email,\n",
    "Orders.TotalCost\n",
    "FROM Customers\n",
    "LEFT JOIN Orders\n",
    "ON Customers.CustomerID = Orders.CustomerID\n",
    "WHERE Orders.TotalCost > 60;\n",
    "\"\"\""
   ]
  },
  {
   "cell_type": "code",
   "execution_count": 17,
   "metadata": {},
   "outputs": [],
   "source": [
    "cursor.execute(join_query)"
   ]
  },
  {
   "cell_type": "code",
   "execution_count": 18,
   "metadata": {},
   "outputs": [],
   "source": [
    "results = cursor.fetchall()"
   ]
  },
  {
   "cell_type": "code",
   "execution_count": 19,
   "metadata": {},
   "outputs": [],
   "source": [
    "columns=cursor.column_names"
   ]
  },
  {
   "cell_type": "code",
   "execution_count": 20,
   "metadata": {},
   "outputs": [
    {
     "name": "stdout",
     "output_type": "stream",
     "text": [
      "('FullName', 'ContactNumber', 'Email', 'TotalCost')\n"
     ]
    }
   ],
   "source": [
    "print(columns)\n",
    "for result in results:\n",
    "    print(result)"
   ]
  },
  {
   "cell_type": "code",
   "execution_count": 21,
   "metadata": {},
   "outputs": [
    {
     "name": "stdout",
     "output_type": "stream",
     "text": [
      "The cursor is closed.\n",
      "MySQL connection is closed.\n"
     ]
    }
   ],
   "source": [
    "if connection.is_connected():\n",
    "    cursor.close()\n",
    "    print(\"The cursor is closed.\")\n",
    "    connection.close()\n",
    "    print(\"MySQL connection is closed.\")\n",
    "else:\n",
    "    print(\"Connection is already closed\")"
   ]
  },
  {
   "cell_type": "code",
   "execution_count": null,
   "metadata": {},
   "outputs": [],
   "source": []
  }
 ],
 "metadata": {
  "kernelspec": {
   "display_name": "Python 3",
   "language": "python",
   "name": "python3"
  },
  "language_info": {
   "codemirror_mode": {
    "name": "ipython",
    "version": 3
   },
   "file_extension": ".py",
   "mimetype": "text/x-python",
   "name": "python",
   "nbconvert_exporter": "python",
   "pygments_lexer": "ipython3",
   "version": "3.12.1"
  }
 },
 "nbformat": 4,
 "nbformat_minor": 2
}
